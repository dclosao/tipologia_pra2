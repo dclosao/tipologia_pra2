{
 "cells": [
  {
   "cell_type": "markdown",
   "id": "ecb19503",
   "metadata": {},
   "source": [
    "# Pràctica 2\n",
    "\n",
    "\n",
    "Presentació:\n",
    "Hem seleccionat el joc de dades del Titànic donat que compta amb un gran nombre de variables numèriques i categòriques i el tamany total del joc de dades és bastant bo per a realitzar tasques de processament de dades i d'anàlisi exploratori de dades.\n",
    "\n",
    "## Descripció del joc de dades\n",
    "\n",
    "* Descripció curta: el joc de dades conté informació sobre el tipus de passatger del Titànic, les característiques del seu viatge i si va sobreviure o no.\n",
    "* URL de descàrrega: https://data.world/nrippner/titanic-disaster-dataset\n",
    "* Mida del joc de dades: 1309 files, 14 columnes\n",
    "* Columnes:\n",
    "    * survival: binari, 0=NO, 1=Sí. Booleà\n",
    "    * class: tipus de passatger, 1=de primera, 2=de segona, 3=de tercera. Enter\n",
    "    * name: nom del passatger. Cadena de text\n",
    "    * sex: sexe del passatger. Cadena de text\n",
    "    * age: edat en anys. Decimal\n",
    "    * sibsp: número d'esposes o germans. Enter\n",
    "    * parch: número de pares o fills. Enter\n",
    "    * ticket: número del tíquet. Enter\n",
    "    * fare: preu del billet. Decimal\n",
    "    * cabin: cabina. Cadena de text\n",
    "    * embarked: port d'embarcament (C = Cherbourg, Q = Queenstown, S = Southampton). Cadena de text\n",
    "    * boat: bot salva-vides en el cas d'haver sobreviscut. Cadena de text\n",
    "    * body: número del cos en el cas de no haver sobreviscut i que s'hagi trobat el cos. Enter\n",
    "    * home_dest: destinació del passatger. Cadena de text\n",
    "\n",
    "**Quina pregunta pretén respondre?**\n",
    "\n",
    "La pregunta principal que tractarem de respondre en aquest projecte és si existeixen relacions entre les característiques del passatgers i el seu índex de supervivència.\n",
    "\n",
    "**Objectiu:**\n",
    "Per tant, com acabem de comentar l'objectiu principal és conèixer si existeixen relacions entre el tipus de passatger i el seu índex de supervivència.\n",
    "\n",
    "\n",
    "## Integració i selecció de les dades d’interès a analitzar\n",
    "Importem les llibreries necessàries per a treballar en aquest projecte:"
   ]
  },
  {
   "cell_type": "code",
   "execution_count": 1,
   "id": "8c07bc87",
   "metadata": {},
   "outputs": [],
   "source": [
    "# importació de llibreries\n",
    "import pandas as pd\n",
    "import numpy as np\n",
    "import seaborn as sns\n",
    "from matplotlib import *\n",
    "from matplotlib import pyplot as plt\n",
    "from scipy import stats\n",
    "from scipy.stats import kstest\n",
    "import statsmodels.api as sm\n",
    "import pylab\n",
    "import random\n",
    "from matplotlib import pyplot\n"
   ]
  },
  {
   "cell_type": "markdown",
   "id": "49b7b4a7",
   "metadata": {},
   "source": [
    "Llegim el joc de dades i mostrem els les primeres files:"
   ]
  },
  {
   "cell_type": "code",
   "execution_count": 2,
   "id": "0731efab",
   "metadata": {},
   "outputs": [
    {
     "data": {
      "text/html": [
       "<div>\n",
       "<style scoped>\n",
       "    .dataframe tbody tr th:only-of-type {\n",
       "        vertical-align: middle;\n",
       "    }\n",
       "\n",
       "    .dataframe tbody tr th {\n",
       "        vertical-align: top;\n",
       "    }\n",
       "\n",
       "    .dataframe thead th {\n",
       "        text-align: right;\n",
       "    }\n",
       "</style>\n",
       "<table border=\"1\" class=\"dataframe\">\n",
       "  <thead>\n",
       "    <tr style=\"text-align: right;\">\n",
       "      <th></th>\n",
       "      <th>pclass</th>\n",
       "      <th>survived</th>\n",
       "      <th>name</th>\n",
       "      <th>sex</th>\n",
       "      <th>age</th>\n",
       "      <th>sibsp</th>\n",
       "      <th>parch</th>\n",
       "      <th>ticket</th>\n",
       "      <th>fare</th>\n",
       "      <th>cabin</th>\n",
       "      <th>embarked</th>\n",
       "      <th>boat</th>\n",
       "      <th>body</th>\n",
       "      <th>home_dest</th>\n",
       "    </tr>\n",
       "  </thead>\n",
       "  <tbody>\n",
       "    <tr>\n",
       "      <th>0</th>\n",
       "      <td>1</td>\n",
       "      <td>True</td>\n",
       "      <td>Allen, Miss. Elisabeth Walton</td>\n",
       "      <td>female</td>\n",
       "      <td>29.0000</td>\n",
       "      <td>0</td>\n",
       "      <td>0</td>\n",
       "      <td>24160</td>\n",
       "      <td>211.3375</td>\n",
       "      <td>B5</td>\n",
       "      <td>S</td>\n",
       "      <td>2</td>\n",
       "      <td>NaN</td>\n",
       "      <td>St Louis, MO</td>\n",
       "    </tr>\n",
       "    <tr>\n",
       "      <th>1</th>\n",
       "      <td>1</td>\n",
       "      <td>True</td>\n",
       "      <td>Allison, Master. Hudson Trevor</td>\n",
       "      <td>male</td>\n",
       "      <td>0.9167</td>\n",
       "      <td>1</td>\n",
       "      <td>2</td>\n",
       "      <td>113781</td>\n",
       "      <td>151.5500</td>\n",
       "      <td>C22 C26</td>\n",
       "      <td>S</td>\n",
       "      <td>11</td>\n",
       "      <td>NaN</td>\n",
       "      <td>Montreal, PQ / Chesterville, ON</td>\n",
       "    </tr>\n",
       "    <tr>\n",
       "      <th>2</th>\n",
       "      <td>1</td>\n",
       "      <td>False</td>\n",
       "      <td>Allison, Miss. Helen Loraine</td>\n",
       "      <td>female</td>\n",
       "      <td>2.0000</td>\n",
       "      <td>1</td>\n",
       "      <td>2</td>\n",
       "      <td>113781</td>\n",
       "      <td>151.5500</td>\n",
       "      <td>C22 C26</td>\n",
       "      <td>S</td>\n",
       "      <td>NaN</td>\n",
       "      <td>NaN</td>\n",
       "      <td>Montreal, PQ / Chesterville, ON</td>\n",
       "    </tr>\n",
       "  </tbody>\n",
       "</table>\n",
       "</div>"
      ],
      "text/plain": [
       "   pclass  survived                            name     sex      age  sibsp  \\\n",
       "0       1      True   Allen, Miss. Elisabeth Walton  female  29.0000      0   \n",
       "1       1      True  Allison, Master. Hudson Trevor    male   0.9167      1   \n",
       "2       1     False    Allison, Miss. Helen Loraine  female   2.0000      1   \n",
       "\n",
       "   parch  ticket      fare    cabin embarked boat  body  \\\n",
       "0      0   24160  211.3375       B5        S    2   NaN   \n",
       "1      2  113781  151.5500  C22 C26        S   11   NaN   \n",
       "2      2  113781  151.5500  C22 C26        S  NaN   NaN   \n",
       "\n",
       "                         home_dest  \n",
       "0                     St Louis, MO  \n",
       "1  Montreal, PQ / Chesterville, ON  \n",
       "2  Montreal, PQ / Chesterville, ON  "
      ]
     },
     "execution_count": 2,
     "metadata": {},
     "output_type": "execute_result"
    }
   ],
   "source": [
    "df = pd.read_csv('titanic.csv')\n",
    "df.head(3)"
   ]
  },
  {
   "cell_type": "code",
   "execution_count": 3,
   "id": "08bc7c5b",
   "metadata": {},
   "outputs": [
    {
     "data": {
      "text/plain": [
       "(1309, 14)"
      ]
     },
     "execution_count": 3,
     "metadata": {},
     "output_type": "execute_result"
    }
   ],
   "source": [
    "df.shape"
   ]
  },
  {
   "cell_type": "markdown",
   "id": "34ddae73",
   "metadata": {},
   "source": [
    "## Neteja de dades\n",
    "\n",
    "Fem un cop d'ull als valors perduts del joc de dades:"
   ]
  },
  {
   "cell_type": "code",
   "execution_count": 4,
   "id": "186751dd",
   "metadata": {},
   "outputs": [
    {
     "data": {
      "text/plain": [
       "pclass          0\n",
       "survived        0\n",
       "name            0\n",
       "sex             0\n",
       "age           263\n",
       "sibsp           0\n",
       "parch           0\n",
       "ticket          0\n",
       "fare            1\n",
       "cabin        1014\n",
       "embarked        2\n",
       "boat          823\n",
       "body         1188\n",
       "home_dest     564\n",
       "dtype: int64"
      ]
     },
     "execution_count": 4,
     "metadata": {},
     "output_type": "execute_result"
    }
   ],
   "source": [
    "df.isnull().sum()"
   ]
  },
  {
   "cell_type": "code",
   "execution_count": 5,
   "id": "d5d6b342",
   "metadata": {},
   "outputs": [
    {
     "data": {
      "text/html": [
       "<div>\n",
       "<style scoped>\n",
       "    .dataframe tbody tr th:only-of-type {\n",
       "        vertical-align: middle;\n",
       "    }\n",
       "\n",
       "    .dataframe tbody tr th {\n",
       "        vertical-align: top;\n",
       "    }\n",
       "\n",
       "    .dataframe thead th {\n",
       "        text-align: right;\n",
       "    }\n",
       "</style>\n",
       "<table border=\"1\" class=\"dataframe\">\n",
       "  <thead>\n",
       "    <tr style=\"text-align: right;\">\n",
       "      <th></th>\n",
       "      <th>fare</th>\n",
       "    </tr>\n",
       "  </thead>\n",
       "  <tbody>\n",
       "    <tr>\n",
       "      <th>count</th>\n",
       "      <td>1308.000000</td>\n",
       "    </tr>\n",
       "    <tr>\n",
       "      <th>mean</th>\n",
       "      <td>33.295479</td>\n",
       "    </tr>\n",
       "    <tr>\n",
       "      <th>std</th>\n",
       "      <td>51.758668</td>\n",
       "    </tr>\n",
       "    <tr>\n",
       "      <th>min</th>\n",
       "      <td>0.000000</td>\n",
       "    </tr>\n",
       "    <tr>\n",
       "      <th>25%</th>\n",
       "      <td>7.895800</td>\n",
       "    </tr>\n",
       "    <tr>\n",
       "      <th>50%</th>\n",
       "      <td>14.454200</td>\n",
       "    </tr>\n",
       "    <tr>\n",
       "      <th>75%</th>\n",
       "      <td>31.275000</td>\n",
       "    </tr>\n",
       "    <tr>\n",
       "      <th>max</th>\n",
       "      <td>512.329200</td>\n",
       "    </tr>\n",
       "  </tbody>\n",
       "</table>\n",
       "</div>"
      ],
      "text/plain": [
       "              fare\n",
       "count  1308.000000\n",
       "mean     33.295479\n",
       "std      51.758668\n",
       "min       0.000000\n",
       "25%       7.895800\n",
       "50%      14.454200\n",
       "75%      31.275000\n",
       "max     512.329200"
      ]
     },
     "execution_count": 5,
     "metadata": {},
     "output_type": "execute_result"
    }
   ],
   "source": [
    "#Com que només hi ha 1 valor missing de fare el podem intentar substituir per la mitjana\n",
    "df.describe()[['fare']]"
   ]
  },
  {
   "cell_type": "code",
   "execution_count": 6,
   "id": "3ff9a941",
   "metadata": {},
   "outputs": [
    {
     "data": {
      "text/html": [
       "<div>\n",
       "<style scoped>\n",
       "    .dataframe tbody tr th:only-of-type {\n",
       "        vertical-align: middle;\n",
       "    }\n",
       "\n",
       "    .dataframe tbody tr th {\n",
       "        vertical-align: top;\n",
       "    }\n",
       "\n",
       "    .dataframe thead th {\n",
       "        text-align: right;\n",
       "    }\n",
       "</style>\n",
       "<table border=\"1\" class=\"dataframe\">\n",
       "  <thead>\n",
       "    <tr style=\"text-align: right;\">\n",
       "      <th></th>\n",
       "      <th>pclass</th>\n",
       "    </tr>\n",
       "  </thead>\n",
       "  <tbody>\n",
       "    <tr>\n",
       "      <th>1225</th>\n",
       "      <td>3</td>\n",
       "    </tr>\n",
       "  </tbody>\n",
       "</table>\n",
       "</div>"
      ],
      "text/plain": [
       "      pclass\n",
       "1225       3"
      ]
     },
     "execution_count": 6,
     "metadata": {},
     "output_type": "execute_result"
    }
   ],
   "source": [
    "df[['pclass']][df['fare'].isna()]\n",
    "#La pclass del missing es 3"
   ]
  },
  {
   "cell_type": "code",
   "execution_count": 7,
   "id": "a4adefd2",
   "metadata": {},
   "outputs": [
    {
     "data": {
      "text/html": [
       "<div>\n",
       "<style scoped>\n",
       "    .dataframe tbody tr th:only-of-type {\n",
       "        vertical-align: middle;\n",
       "    }\n",
       "\n",
       "    .dataframe tbody tr th {\n",
       "        vertical-align: top;\n",
       "    }\n",
       "\n",
       "    .dataframe thead th {\n",
       "        text-align: right;\n",
       "    }\n",
       "</style>\n",
       "<table border=\"1\" class=\"dataframe\">\n",
       "  <thead>\n",
       "    <tr style=\"text-align: right;\">\n",
       "      <th></th>\n",
       "      <th>fare</th>\n",
       "    </tr>\n",
       "    <tr>\n",
       "      <th>pclass</th>\n",
       "      <th></th>\n",
       "    </tr>\n",
       "  </thead>\n",
       "  <tbody>\n",
       "    <tr>\n",
       "      <th>1</th>\n",
       "      <td>87.508992</td>\n",
       "    </tr>\n",
       "    <tr>\n",
       "      <th>2</th>\n",
       "      <td>21.179196</td>\n",
       "    </tr>\n",
       "    <tr>\n",
       "      <th>3</th>\n",
       "      <td>13.302889</td>\n",
       "    </tr>\n",
       "  </tbody>\n",
       "</table>\n",
       "</div>"
      ],
      "text/plain": [
       "             fare\n",
       "pclass           \n",
       "1       87.508992\n",
       "2       21.179196\n",
       "3       13.302889"
      ]
     },
     "execution_count": 7,
     "metadata": {},
     "output_type": "execute_result"
    }
   ],
   "source": [
    "#El preu esta molt influenciat per la classe, aleshores anem a veure separat per aixó\n",
    "df[['fare','pclass']].groupby('pclass').mean()"
   ]
  },
  {
   "cell_type": "code",
   "execution_count": 8,
   "id": "ae8f6e62",
   "metadata": {},
   "outputs": [],
   "source": [
    "#Aleshores substituim el valor missing de fare per 13.3"
   ]
  },
  {
   "cell_type": "markdown",
   "id": "ce303004",
   "metadata": {},
   "source": [
    "**Com tractarem els valors perduts?**\n",
    "* age: donat que és rellevant per a aquest estudi procedirem a eliminar les files que no contiguin l'edat.\n",
    "* fare: substituim per 13.3\n",
    "* cabin: no és rellevant. Omplirem els valors perduts amb \"desconegut\".\n",
    "* embarked: és rellevant amb el que també s'eliminaran les files que continguin aquests valors.\n",
    "* boat, body i home_dest: no és rellevant. Omplirem els valors perduts amb \"desconegut\".\n",
    "\n",
    "### Tractament dels valors perduts\n",
    "#### Eliminació de files\n",
    "Eliminem les files que continguin valors perduts a age o a embarked. Primer comprovem quin tant per cent d'informació perdíem a l'eliminar-los, si és poc procedirem a eliminar:"
   ]
  },
  {
   "cell_type": "code",
   "execution_count": 9,
   "id": "56ff66ce",
   "metadata": {},
   "outputs": [
    {
     "name": "stdout",
     "output_type": "stream",
     "text": [
      "La columna age té 263 valors perduts d'un total de 1309, eliminant aquestes files eliminarem el 20.091673032849503% de les dades.\n",
      "La columna embarked té 2 valors perduts d'un total de 1309, eliminant aquestes files eliminarem el 0.15278838808250572% de les dades.\n",
      "La columna fare té 1 valors perduts d'un total de 1309, eliminant aquestes files eliminarem el 0.07639419404125286% de les dades.\n"
     ]
    }
   ],
   "source": [
    "# fem el recompte de files\n",
    "total_files = df.shape[0]\n",
    "\n",
    "# fem el recompte de valors perduts a les dues columnes\n",
    "nan_age = df.age.isna().sum()\n",
    "nan_embarked = df.embarked.isna().sum()\n",
    "nan_fare = df.fare.isna().sum()\n",
    "\n",
    "# veiem quin tant per cent d'informació perdrem\n",
    "print(\"La columna age té {} valors perduts d'un total de {}, eliminant aquestes files eliminarem el {}% de les dades.\"\n",
    "      .format(nan_age, total_files, nan_age / total_files * 100))\n",
    "print(\"La columna embarked té {} valors perduts d'un total de {}, eliminant aquestes files eliminarem el {}% de les dades.\"\n",
    "      .format(nan_embarked, total_files, nan_embarked / total_files * 100))\n",
    "print(\"La columna fare té {} valors perduts d'un total de {}, eliminant aquestes files eliminarem el {}% de les dades.\"\n",
    "      .format(nan_fare, total_files, nan_fare / total_files * 100))"
   ]
  },
  {
   "cell_type": "markdown",
   "id": "0be2b931",
   "metadata": {},
   "source": [
    "Tenint en compte aquesta pèrdua d'informació procedim a eliminar els valors perduts."
   ]
  },
  {
   "cell_type": "code",
   "execution_count": 10,
   "id": "11427a42",
   "metadata": {},
   "outputs": [
    {
     "name": "stdout",
     "output_type": "stream",
     "text": [
      "Total de files:  1044\n"
     ]
    }
   ],
   "source": [
    "# eliminem files amb valors perduts\n",
    "df = df.dropna(subset=['age', 'embarked'])\n",
    "\n",
    "total_files = df.shape[0]\n",
    "print(\"Total de files: \", total_files)"
   ]
  },
  {
   "cell_type": "code",
   "execution_count": 11,
   "id": "0deec562",
   "metadata": {},
   "outputs": [],
   "source": [
    "df[['fare']] = df[['fare']].fillna(value=13.3)"
   ]
  },
  {
   "cell_type": "markdown",
   "id": "c4f21277",
   "metadata": {},
   "source": [
    "#### Substitució dels valors perduts\n",
    "En el cas de cabin, boat, body i home_dest procedirem a substituir, com hem comentat, els valors perduts per la paraula \"desconegut\"."
   ]
  },
  {
   "cell_type": "code",
   "execution_count": 12,
   "id": "15e9efa6",
   "metadata": {},
   "outputs": [],
   "source": [
    "df[['cabin', 'boat', 'body', 'home_dest']] = df[['cabin', 'boat', 'body', 'home_dest']].fillna(value='desconegut')"
   ]
  },
  {
   "cell_type": "markdown",
   "id": "677bf778",
   "metadata": {},
   "source": [
    "Veiem com ha quedat el sumatori dels valors perduts al joc de dades:"
   ]
  },
  {
   "cell_type": "code",
   "execution_count": 13,
   "id": "e86165de",
   "metadata": {},
   "outputs": [
    {
     "data": {
      "text/plain": [
       "pclass       0\n",
       "survived     0\n",
       "name         0\n",
       "sex          0\n",
       "age          0\n",
       "sibsp        0\n",
       "parch        0\n",
       "ticket       0\n",
       "fare         0\n",
       "cabin        0\n",
       "embarked     0\n",
       "boat         0\n",
       "body         0\n",
       "home_dest    0\n",
       "dtype: int64"
      ]
     },
     "execution_count": 13,
     "metadata": {},
     "output_type": "execute_result"
    }
   ],
   "source": [
    "df.isnull().sum()"
   ]
  },
  {
   "cell_type": "code",
   "execution_count": null,
   "id": "472665ca",
   "metadata": {},
   "outputs": [],
   "source": []
  },
  {
   "cell_type": "markdown",
   "id": "65abd120",
   "metadata": {},
   "source": [
    "#### Valors Extrems\n"
   ]
  },
  {
   "cell_type": "markdown",
   "id": "66a24f6b",
   "metadata": {},
   "source": [
    "**Tenim 3 possibles tractaments pels valors extrems:**\n",
    "\n",
    "    -Eliminar les files corresponents a aquets valors\n",
    "    -Definir limits superiors i/o inferiors i substituir els valors extrems pels valors limits\n",
    "    -Tractar-los com valors missings (i substituir per la mitjana)"
   ]
  },
  {
   "cell_type": "markdown",
   "id": "b79e5f37",
   "metadata": {},
   "source": [
    "**Fem una primera vizualització dels valors extrems de les variables numeriques**"
   ]
  },
  {
   "cell_type": "code",
   "execution_count": 14,
   "id": "c18daae2",
   "metadata": {},
   "outputs": [
    {
     "data": {
      "image/png": "[encoded data removed]",
      "text/plain": [
       "<Figure size 864x432 with 4 Axes>"
      ]
     },
     "metadata": {},
     "output_type": "display_data"
    }
   ],
   "source": [
    "fig = plt.figure(num=None, figsize=(12, 6), facecolor='w')\n",
    "#Afegim també els boxplot de cada variable\n",
    "ax1 = fig.add_subplot(141)\n",
    "ax2 = fig.add_subplot(142)\n",
    "ax3 = fig.add_subplot(143)\n",
    "ax4 = fig.add_subplot(144)\n",
    "ax1.title.set_text('age')\n",
    "ax1.boxplot(df['age'])\n",
    "ax2.title.set_text('fare')\n",
    "ax2.boxplot(df['fare'])\n",
    "ax3.title.set_text('parch')\n",
    "ax3.boxplot(df['parch'])\n",
    "ax4.title.set_text('sibsp')\n",
    "ax4.boxplot(df['sibsp'])\n",
    "plt.show()"
   ]
  },
  {
   "cell_type": "markdown",
   "id": "6d2760f0",
   "metadata": {},
   "source": [
    "Observem que les variables Age i Fare poden tenir valors extrems"
   ]
  },
  {
   "cell_type": "code",
   "execution_count": 15,
   "id": "b9ad5216",
   "metadata": {},
   "outputs": [
    {
     "data": {
      "text/html": [
       "<div>\n",
       "<style scoped>\n",
       "    .dataframe tbody tr th:only-of-type {\n",
       "        vertical-align: middle;\n",
       "    }\n",
       "\n",
       "    .dataframe tbody tr th {\n",
       "        vertical-align: top;\n",
       "    }\n",
       "\n",
       "    .dataframe thead th {\n",
       "        text-align: right;\n",
       "    }\n",
       "</style>\n",
       "<table border=\"1\" class=\"dataframe\">\n",
       "  <thead>\n",
       "    <tr style=\"text-align: right;\">\n",
       "      <th></th>\n",
       "      <th>fare</th>\n",
       "      <th>age</th>\n",
       "    </tr>\n",
       "  </thead>\n",
       "  <tbody>\n",
       "    <tr>\n",
       "      <th>count</th>\n",
       "      <td>1044.000000</td>\n",
       "      <td>1044.000000</td>\n",
       "    </tr>\n",
       "    <tr>\n",
       "      <th>mean</th>\n",
       "      <td>36.580703</td>\n",
       "      <td>29.842593</td>\n",
       "    </tr>\n",
       "    <tr>\n",
       "      <th>std</th>\n",
       "      <td>55.731580</td>\n",
       "      <td>14.390746</td>\n",
       "    </tr>\n",
       "    <tr>\n",
       "      <th>min</th>\n",
       "      <td>0.000000</td>\n",
       "      <td>0.166700</td>\n",
       "    </tr>\n",
       "    <tr>\n",
       "      <th>25%</th>\n",
       "      <td>8.050000</td>\n",
       "      <td>21.000000</td>\n",
       "    </tr>\n",
       "    <tr>\n",
       "      <th>50%</th>\n",
       "      <td>15.745850</td>\n",
       "      <td>28.000000</td>\n",
       "    </tr>\n",
       "    <tr>\n",
       "      <th>75%</th>\n",
       "      <td>34.865650</td>\n",
       "      <td>39.000000</td>\n",
       "    </tr>\n",
       "    <tr>\n",
       "      <th>max</th>\n",
       "      <td>512.329200</td>\n",
       "      <td>80.000000</td>\n",
       "    </tr>\n",
       "  </tbody>\n",
       "</table>\n",
       "</div>"
      ],
      "text/plain": [
       "              fare          age\n",
       "count  1044.000000  1044.000000\n",
       "mean     36.580703    29.842593\n",
       "std      55.731580    14.390746\n",
       "min       0.000000     0.166700\n",
       "25%       8.050000    21.000000\n",
       "50%      15.745850    28.000000\n",
       "75%      34.865650    39.000000\n",
       "max     512.329200    80.000000"
      ]
     },
     "execution_count": 15,
     "metadata": {},
     "output_type": "execute_result"
    }
   ],
   "source": [
    "df.describe()[['fare', 'age']]"
   ]
  },
  {
   "cell_type": "markdown",
   "id": "5e5bf958",
   "metadata": {},
   "source": [
    "Estudiem en funció de pclass"
   ]
  },
  {
   "cell_type": "code",
   "execution_count": 16,
   "id": "0502d836",
   "metadata": {},
   "outputs": [
    {
     "data": {
      "text/html": [
       "<div>\n",
       "<style scoped>\n",
       "    .dataframe tbody tr th:only-of-type {\n",
       "        vertical-align: middle;\n",
       "    }\n",
       "\n",
       "    .dataframe tbody tr th {\n",
       "        vertical-align: top;\n",
       "    }\n",
       "\n",
       "    .dataframe thead tr th {\n",
       "        text-align: left;\n",
       "    }\n",
       "\n",
       "    .dataframe thead tr:last-of-type th {\n",
       "        text-align: right;\n",
       "    }\n",
       "</style>\n",
       "<table border=\"1\" class=\"dataframe\">\n",
       "  <thead>\n",
       "    <tr>\n",
       "      <th></th>\n",
       "      <th colspan=\"8\" halign=\"left\">fare</th>\n",
       "    </tr>\n",
       "    <tr>\n",
       "      <th></th>\n",
       "      <th>count</th>\n",
       "      <th>mean</th>\n",
       "      <th>std</th>\n",
       "      <th>min</th>\n",
       "      <th>25%</th>\n",
       "      <th>50%</th>\n",
       "      <th>75%</th>\n",
       "      <th>max</th>\n",
       "    </tr>\n",
       "    <tr>\n",
       "      <th>pclass</th>\n",
       "      <th></th>\n",
       "      <th></th>\n",
       "      <th></th>\n",
       "      <th></th>\n",
       "      <th></th>\n",
       "      <th></th>\n",
       "      <th></th>\n",
       "      <th></th>\n",
       "    </tr>\n",
       "  </thead>\n",
       "  <tbody>\n",
       "    <tr>\n",
       "      <th>1</th>\n",
       "      <td>282.0</td>\n",
       "      <td>92.316091</td>\n",
       "      <td>82.888168</td>\n",
       "      <td>0.0000</td>\n",
       "      <td>34.86565</td>\n",
       "      <td>67.95</td>\n",
       "      <td>110.8833</td>\n",
       "      <td>512.3292</td>\n",
       "    </tr>\n",
       "    <tr>\n",
       "      <th>2</th>\n",
       "      <td>261.0</td>\n",
       "      <td>21.855044</td>\n",
       "      <td>13.540335</td>\n",
       "      <td>9.6875</td>\n",
       "      <td>13.00000</td>\n",
       "      <td>15.75</td>\n",
       "      <td>26.0000</td>\n",
       "      <td>73.5000</td>\n",
       "    </tr>\n",
       "    <tr>\n",
       "      <th>3</th>\n",
       "      <td>501.0</td>\n",
       "      <td>12.880139</td>\n",
       "      <td>9.723371</td>\n",
       "      <td>0.0000</td>\n",
       "      <td>7.77500</td>\n",
       "      <td>8.05</td>\n",
       "      <td>15.1000</td>\n",
       "      <td>69.5500</td>\n",
       "    </tr>\n",
       "  </tbody>\n",
       "</table>\n",
       "</div>"
      ],
      "text/plain": [
       "         fare                                                           \\\n",
       "        count       mean        std     min       25%    50%       75%   \n",
       "pclass                                                                   \n",
       "1       282.0  92.316091  82.888168  0.0000  34.86565  67.95  110.8833   \n",
       "2       261.0  21.855044  13.540335  9.6875  13.00000  15.75   26.0000   \n",
       "3       501.0  12.880139   9.723371  0.0000   7.77500   8.05   15.1000   \n",
       "\n",
       "                  \n",
       "             max  \n",
       "pclass            \n",
       "1       512.3292  \n",
       "2        73.5000  \n",
       "3        69.5500  "
      ]
     },
     "execution_count": 16,
     "metadata": {},
     "output_type": "execute_result"
    }
   ],
   "source": [
    "df.groupby('pclass').describe()[['fare']]"
   ]
  },
  {
   "cell_type": "markdown",
   "id": "19538e67",
   "metadata": {},
   "source": [
    "Analitzarem visualment la variable fare per pclass"
   ]
  },
  {
   "cell_type": "code",
   "execution_count": 17,
   "id": "d6a10a49",
   "metadata": {},
   "outputs": [
    {
     "name": "stderr",
     "output_type": "stream",
     "text": [
      "C:\\Users\\David\\AppData\\Local\\Temp/ipykernel_18380/1459580763.py:22: MatplotlibDeprecationWarning: Passing the pad parameter of tight_layout() positionally is deprecated since Matplotlib 3.3; the parameter will become keyword-only two minor releases later.\n",
      "  plt.tight_layout(2)\n"
     ]
    },
    {
     "data": {
      "image/png": "[encoded data removed]",
      "text/plain": [
       "<Figure size 1080x360 with 3 Axes>"
      ]
     },
     "metadata": {
      "needs_background": "light"
     },
     "output_type": "display_data"
    }
   ],
   "source": [
    "# gràficament també podem observar això\n",
    "\n",
    "mr1=df['fare'][df['pclass']==1]\n",
    "mr2=df['fare'][df['pclass']==2]\n",
    "mr3=df['fare'][df['pclass']==3]\n",
    "\n",
    "plt.subplots(figsize=(15, 5))\n",
    "\n",
    "\n",
    "plt.subplot(1, 3, 1)\n",
    "plt.hist(list(mr3), bins=20, label='Class 3',linewidth=1, edgecolor='black',fc=(1, 0, 0, 0.5))\n",
    "plt.title('Fare in Class 3')\n",
    "\n",
    "plt.subplot(1, 3, 2)\n",
    "plt.hist(list(mr2), bins=20, label='Class 2',linewidth=1, edgecolor='black',fc=(1, 1, 0, 0.5))\n",
    "plt.title('Fare in Class 2')\n",
    "\n",
    "plt.subplot(1, 3, 3)\n",
    "plt.hist(list(mr1), bins=20, label='Class 1',linewidth=1, edgecolor='black',fc=(0, 0, 1, 0.5))\n",
    "plt.title('Fare in Class 1')\n",
    "\n",
    "plt.tight_layout(2)\n",
    "plt.show()"
   ]
  },
  {
   "cell_type": "markdown",
   "id": "db880829",
   "metadata": {},
   "source": [
    "**Amb l'histograma observem els següents outliers:**\n",
    "\n",
    "    -Cas 1: en la pclass 1 tenim un outlier en el 500\n",
    "    -Cas 2: em la pclass 2 tenim dos outliers amb fare>60\n",
    "    -Cas 3: em la pclass 3 tenim tres outliers amb fare>40\n",
    "    \n",
    "Per l'altra banda observem que tant la pclass 1 i 3 tenen fare casos amb fare igual a 0. Considerem que aquests valors són erronis i els substituirem per la mitjana.\n",
    "\n",
    "\n",
    "\n"
   ]
  },
  {
   "cell_type": "code",
   "execution_count": 18,
   "id": "f583ee5e",
   "metadata": {},
   "outputs": [
    {
     "data": {
      "text/html": [
       "<div>\n",
       "<style scoped>\n",
       "    .dataframe tbody tr th:only-of-type {\n",
       "        vertical-align: middle;\n",
       "    }\n",
       "\n",
       "    .dataframe tbody tr th {\n",
       "        vertical-align: top;\n",
       "    }\n",
       "\n",
       "    .dataframe thead tr th {\n",
       "        text-align: left;\n",
       "    }\n",
       "\n",
       "    .dataframe thead tr:last-of-type th {\n",
       "        text-align: right;\n",
       "    }\n",
       "</style>\n",
       "<table border=\"1\" class=\"dataframe\">\n",
       "  <thead>\n",
       "    <tr>\n",
       "      <th></th>\n",
       "      <th colspan=\"8\" halign=\"left\">age</th>\n",
       "    </tr>\n",
       "    <tr>\n",
       "      <th></th>\n",
       "      <th>count</th>\n",
       "      <th>mean</th>\n",
       "      <th>std</th>\n",
       "      <th>min</th>\n",
       "      <th>25%</th>\n",
       "      <th>50%</th>\n",
       "      <th>75%</th>\n",
       "      <th>max</th>\n",
       "    </tr>\n",
       "    <tr>\n",
       "      <th>pclass</th>\n",
       "      <th></th>\n",
       "      <th></th>\n",
       "      <th></th>\n",
       "      <th></th>\n",
       "      <th></th>\n",
       "      <th></th>\n",
       "      <th></th>\n",
       "      <th></th>\n",
       "    </tr>\n",
       "  </thead>\n",
       "  <tbody>\n",
       "    <tr>\n",
       "      <th>1</th>\n",
       "      <td>282.0</td>\n",
       "      <td>39.083038</td>\n",
       "      <td>14.535653</td>\n",
       "      <td>0.9167</td>\n",
       "      <td>28.0</td>\n",
       "      <td>39.0</td>\n",
       "      <td>49.75</td>\n",
       "      <td>80.0</td>\n",
       "    </tr>\n",
       "    <tr>\n",
       "      <th>2</th>\n",
       "      <td>261.0</td>\n",
       "      <td>29.506705</td>\n",
       "      <td>13.638628</td>\n",
       "      <td>0.6667</td>\n",
       "      <td>22.0</td>\n",
       "      <td>29.0</td>\n",
       "      <td>36.00</td>\n",
       "      <td>70.0</td>\n",
       "    </tr>\n",
       "    <tr>\n",
       "      <th>3</th>\n",
       "      <td>501.0</td>\n",
       "      <td>24.816367</td>\n",
       "      <td>11.958202</td>\n",
       "      <td>0.1667</td>\n",
       "      <td>18.0</td>\n",
       "      <td>24.0</td>\n",
       "      <td>32.00</td>\n",
       "      <td>74.0</td>\n",
       "    </tr>\n",
       "  </tbody>\n",
       "</table>\n",
       "</div>"
      ],
      "text/plain": [
       "          age                                                       \n",
       "        count       mean        std     min   25%   50%    75%   max\n",
       "pclass                                                              \n",
       "1       282.0  39.083038  14.535653  0.9167  28.0  39.0  49.75  80.0\n",
       "2       261.0  29.506705  13.638628  0.6667  22.0  29.0  36.00  70.0\n",
       "3       501.0  24.816367  11.958202  0.1667  18.0  24.0  32.00  74.0"
      ]
     },
     "execution_count": 18,
     "metadata": {},
     "output_type": "execute_result"
    }
   ],
   "source": [
    "df.groupby('pclass').describe()[['age']]"
   ]
  },
  {
   "cell_type": "code",
   "execution_count": 19,
   "id": "e87699f8",
   "metadata": {},
   "outputs": [
    {
     "name": "stderr",
     "output_type": "stream",
     "text": [
      "C:\\Users\\David\\AppData\\Local\\Temp/ipykernel_18380/1249790875.py:22: MatplotlibDeprecationWarning: Passing the pad parameter of tight_layout() positionally is deprecated since Matplotlib 3.3; the parameter will become keyword-only two minor releases later.\n",
      "  plt.tight_layout(2)\n"
     ]
    },
    {
     "data": {
      "image/png": "[encoded data removed]",
      "text/plain": [
       "<Figure size 1080x360 with 3 Axes>"
      ]
     },
     "metadata": {
      "needs_background": "light"
     },
     "output_type": "display_data"
    }
   ],
   "source": [
    "# gràfica\n",
    "\n",
    "ar1=df['age'][df['pclass']==1]\n",
    "ar2=df['age'][df['pclass']==2]\n",
    "ar3=df['age'][df['pclass']==3]\n",
    "\n",
    "plt.subplots(figsize=(15, 5))\n",
    "\n",
    "\n",
    "plt.subplot(1, 3, 1)\n",
    "plt.hist(list(ar1), bins=20, label='Class 3',linewidth=1, edgecolor='black',fc=(1, 0, 0, 0.5))\n",
    "plt.title('Age in Class 3')\n",
    "\n",
    "plt.subplot(1, 3, 2)\n",
    "plt.hist(list(ar2), bins=20, label='Class 2',linewidth=1, edgecolor='black',fc=(1, 1, 0, 0.5))\n",
    "plt.title('Age in Class 2')\n",
    "\n",
    "plt.subplot(1, 3, 3)\n",
    "plt.hist(list(ar3), bins=20, label='Class 1',linewidth=1, edgecolor='black',fc=(0, 0, 1, 0.5))\n",
    "plt.title('Age in Class 1')\n",
    "\n",
    "plt.tight_layout(2)\n",
    "plt.show()"
   ]
  },
  {
   "cell_type": "code",
   "execution_count": 20,
   "id": "137c7b7d",
   "metadata": {},
   "outputs": [
    {
     "data": {
      "image/png": "[encoded data removed]",
      "text/plain": [
       "<Figure size 576x432 with 1 Axes>"
      ]
     },
     "metadata": {
      "needs_background": "light"
     },
     "output_type": "display_data"
    }
   ],
   "source": [
    "#Separat per sexe tampoc veiem diferencies\n",
    "\n",
    "%matplotlib inline\n",
    "saF=df['age'][df['sex']=='female']\n",
    "saM=df['age'][df['sex']=='male']\n",
    "fig, ax = plt.subplots(1, 1, sharex='col', sharey='row', figsize=(8,6))\n",
    "pyplot.hist(list(saF), bins=20, edgecolor='black', linewidth=1, label='female', fc=(0, 0, 1, 0.5))\n",
    "pyplot.hist(list(saM), bins=20, edgecolor='black', linewidth=1, label='male',fc=(1, 0, 0, 0.5))\n",
    "pyplot.legend(loc='upper right')\n",
    "pyplot.title('Age')\n",
    "pyplot.show()"
   ]
  },
  {
   "cell_type": "markdown",
   "id": "fe00fd1d",
   "metadata": {},
   "source": [
    "Considerem que per l'edad no hi han valors extrems"
   ]
  },
  {
   "cell_type": "markdown",
   "id": "c6a146db",
   "metadata": {},
   "source": [
    "### Tractament dels valors extrems\n"
   ]
  },
  {
   "cell_type": "markdown",
   "id": "cddc1c7d",
   "metadata": {},
   "source": [
    "### Cas 1"
   ]
  },
  {
   "cell_type": "code",
   "execution_count": 21,
   "id": "c2571706",
   "metadata": {},
   "outputs": [
    {
     "data": {
      "text/html": [
       "<div>\n",
       "<style scoped>\n",
       "    .dataframe tbody tr th:only-of-type {\n",
       "        vertical-align: middle;\n",
       "    }\n",
       "\n",
       "    .dataframe tbody tr th {\n",
       "        vertical-align: top;\n",
       "    }\n",
       "\n",
       "    .dataframe thead th {\n",
       "        text-align: right;\n",
       "    }\n",
       "</style>\n",
       "<table border=\"1\" class=\"dataframe\">\n",
       "  <thead>\n",
       "    <tr style=\"text-align: right;\">\n",
       "      <th></th>\n",
       "      <th>pclass</th>\n",
       "      <th>survived</th>\n",
       "      <th>name</th>\n",
       "      <th>sex</th>\n",
       "      <th>age</th>\n",
       "      <th>sibsp</th>\n",
       "      <th>parch</th>\n",
       "      <th>ticket</th>\n",
       "      <th>fare</th>\n",
       "      <th>cabin</th>\n",
       "      <th>embarked</th>\n",
       "      <th>boat</th>\n",
       "      <th>body</th>\n",
       "      <th>home_dest</th>\n",
       "    </tr>\n",
       "  </thead>\n",
       "  <tbody>\n",
       "    <tr>\n",
       "      <th>49</th>\n",
       "      <td>1</td>\n",
       "      <td>True</td>\n",
       "      <td>Cardeza, Mr. Thomas Drake Martinez</td>\n",
       "      <td>male</td>\n",
       "      <td>36.0</td>\n",
       "      <td>0</td>\n",
       "      <td>1</td>\n",
       "      <td>PC 17755</td>\n",
       "      <td>512.3292</td>\n",
       "      <td>B51 B53 B55</td>\n",
       "      <td>C</td>\n",
       "      <td>3</td>\n",
       "      <td>desconegut</td>\n",
       "      <td>Austria-Hungary / Germantown, Philadelphia, PA</td>\n",
       "    </tr>\n",
       "    <tr>\n",
       "      <th>50</th>\n",
       "      <td>1</td>\n",
       "      <td>True</td>\n",
       "      <td>Cardeza, Mrs. James Warburton Martinez (Charlo...</td>\n",
       "      <td>female</td>\n",
       "      <td>58.0</td>\n",
       "      <td>0</td>\n",
       "      <td>1</td>\n",
       "      <td>PC 17755</td>\n",
       "      <td>512.3292</td>\n",
       "      <td>B51 B53 B55</td>\n",
       "      <td>C</td>\n",
       "      <td>3</td>\n",
       "      <td>desconegut</td>\n",
       "      <td>Germantown, Philadelphia, PA</td>\n",
       "    </tr>\n",
       "    <tr>\n",
       "      <th>183</th>\n",
       "      <td>1</td>\n",
       "      <td>True</td>\n",
       "      <td>Lesurer, Mr. Gustave J</td>\n",
       "      <td>male</td>\n",
       "      <td>35.0</td>\n",
       "      <td>0</td>\n",
       "      <td>0</td>\n",
       "      <td>PC 17755</td>\n",
       "      <td>512.3292</td>\n",
       "      <td>B101</td>\n",
       "      <td>C</td>\n",
       "      <td>3</td>\n",
       "      <td>desconegut</td>\n",
       "      <td>desconegut</td>\n",
       "    </tr>\n",
       "    <tr>\n",
       "      <th>302</th>\n",
       "      <td>1</td>\n",
       "      <td>True</td>\n",
       "      <td>Ward, Miss. Anna</td>\n",
       "      <td>female</td>\n",
       "      <td>35.0</td>\n",
       "      <td>0</td>\n",
       "      <td>0</td>\n",
       "      <td>PC 17755</td>\n",
       "      <td>512.3292</td>\n",
       "      <td>desconegut</td>\n",
       "      <td>C</td>\n",
       "      <td>3</td>\n",
       "      <td>desconegut</td>\n",
       "      <td>desconegut</td>\n",
       "    </tr>\n",
       "  </tbody>\n",
       "</table>\n",
       "</div>"
      ],
      "text/plain": [
       "     pclass  survived                                               name  \\\n",
       "49        1      True                 Cardeza, Mr. Thomas Drake Martinez   \n",
       "50        1      True  Cardeza, Mrs. James Warburton Martinez (Charlo...   \n",
       "183       1      True                             Lesurer, Mr. Gustave J   \n",
       "302       1      True                                   Ward, Miss. Anna   \n",
       "\n",
       "        sex   age  sibsp  parch    ticket      fare        cabin embarked  \\\n",
       "49     male  36.0      0      1  PC 17755  512.3292  B51 B53 B55        C   \n",
       "50   female  58.0      0      1  PC 17755  512.3292  B51 B53 B55        C   \n",
       "183    male  35.0      0      0  PC 17755  512.3292         B101        C   \n",
       "302  female  35.0      0      0  PC 17755  512.3292   desconegut        C   \n",
       "\n",
       "    boat        body                                       home_dest  \n",
       "49     3  desconegut  Austria-Hungary / Germantown, Philadelphia, PA  \n",
       "50     3  desconegut                    Germantown, Philadelphia, PA  \n",
       "183    3  desconegut                                      desconegut  \n",
       "302    3  desconegut                                      desconegut  "
      ]
     },
     "execution_count": 21,
     "metadata": {},
     "output_type": "execute_result"
    }
   ],
   "source": [
    "df.loc[df.loc[:, 'fare'] >500]"
   ]
  },
  {
   "cell_type": "code",
   "execution_count": 22,
   "id": "d04ef316",
   "metadata": {},
   "outputs": [],
   "source": [
    "df = df[df.fare < 500]\n",
    "\n",
    "#Eliminem les files amb els valors extrems del cas 1."
   ]
  },
  {
   "cell_type": "code",
   "execution_count": 23,
   "id": "b7060bd6",
   "metadata": {},
   "outputs": [
    {
     "data": {
      "text/plain": [
       "(1040, 14)"
      ]
     },
     "execution_count": 23,
     "metadata": {},
     "output_type": "execute_result"
    }
   ],
   "source": [
    "df.shape"
   ]
  },
  {
   "cell_type": "markdown",
   "id": "1ee9af4c",
   "metadata": {},
   "source": [
    "### Cas 2"
   ]
  },
  {
   "cell_type": "code",
   "execution_count": 24,
   "id": "48fc06b5",
   "metadata": {},
   "outputs": [],
   "source": [
    "df=df[((df.fare <60)  & (df.pclass==2)) | (df.pclass!=2)]\n"
   ]
  },
  {
   "cell_type": "code",
   "execution_count": 25,
   "id": "7d7bb42d",
   "metadata": {},
   "outputs": [
    {
     "data": {
      "text/plain": [
       "(1028, 14)"
      ]
     },
     "execution_count": 25,
     "metadata": {},
     "output_type": "execute_result"
    }
   ],
   "source": [
    "df.shape"
   ]
  },
  {
   "cell_type": "markdown",
   "id": "ca8b6741",
   "metadata": {},
   "source": [
    "### Cas 3"
   ]
  },
  {
   "cell_type": "code",
   "execution_count": 26,
   "id": "de24492a",
   "metadata": {},
   "outputs": [],
   "source": [
    "df=df[((df.fare <50)  & (df.pclass==3)) | (df.pclass!=3)]"
   ]
  },
  {
   "cell_type": "code",
   "execution_count": 27,
   "id": "48285284",
   "metadata": {},
   "outputs": [
    {
     "data": {
      "text/plain": [
       "(1023, 14)"
      ]
     },
     "execution_count": 27,
     "metadata": {},
     "output_type": "execute_result"
    }
   ],
   "source": [
    "df.shape"
   ]
  },
  {
   "cell_type": "markdown",
   "id": "2343fe04",
   "metadata": {},
   "source": [
    "### Tractaments del fare = 0"
   ]
  },
  {
   "cell_type": "markdown",
   "id": "54f7fb4f",
   "metadata": {},
   "source": [
    "Primer fem una primera vista dels casos amb fare=0."
   ]
  },
  {
   "cell_type": "code",
   "execution_count": 28,
   "id": "fe4e72c2",
   "metadata": {},
   "outputs": [
    {
     "data": {
      "text/html": [
       "<div>\n",
       "<style scoped>\n",
       "    .dataframe tbody tr th:only-of-type {\n",
       "        vertical-align: middle;\n",
       "    }\n",
       "\n",
       "    .dataframe tbody tr th {\n",
       "        vertical-align: top;\n",
       "    }\n",
       "\n",
       "    .dataframe thead th {\n",
       "        text-align: right;\n",
       "    }\n",
       "</style>\n",
       "<table border=\"1\" class=\"dataframe\">\n",
       "  <thead>\n",
       "    <tr style=\"text-align: right;\">\n",
       "      <th></th>\n",
       "      <th>pclass</th>\n",
       "      <th>survived</th>\n",
       "      <th>name</th>\n",
       "      <th>sex</th>\n",
       "      <th>age</th>\n",
       "      <th>sibsp</th>\n",
       "      <th>parch</th>\n",
       "      <th>ticket</th>\n",
       "      <th>fare</th>\n",
       "      <th>cabin</th>\n",
       "      <th>embarked</th>\n",
       "      <th>boat</th>\n",
       "      <th>body</th>\n",
       "      <th>home_dest</th>\n",
       "    </tr>\n",
       "  </thead>\n",
       "  <tbody>\n",
       "    <tr>\n",
       "      <th>7</th>\n",
       "      <td>1</td>\n",
       "      <td>False</td>\n",
       "      <td>Andrews, Mr. Thomas Jr</td>\n",
       "      <td>male</td>\n",
       "      <td>39.0</td>\n",
       "      <td>0</td>\n",
       "      <td>0</td>\n",
       "      <td>112050</td>\n",
       "      <td>0.0</td>\n",
       "      <td>A36</td>\n",
       "      <td>S</td>\n",
       "      <td>desconegut</td>\n",
       "      <td>desconegut</td>\n",
       "      <td>Belfast, NI</td>\n",
       "    </tr>\n",
       "    <tr>\n",
       "      <th>150</th>\n",
       "      <td>1</td>\n",
       "      <td>False</td>\n",
       "      <td>Harrison, Mr. William</td>\n",
       "      <td>male</td>\n",
       "      <td>40.0</td>\n",
       "      <td>0</td>\n",
       "      <td>0</td>\n",
       "      <td>112059</td>\n",
       "      <td>0.0</td>\n",
       "      <td>B94</td>\n",
       "      <td>S</td>\n",
       "      <td>desconegut</td>\n",
       "      <td>110.0</td>\n",
       "      <td>desconegut</td>\n",
       "    </tr>\n",
       "    <tr>\n",
       "      <th>170</th>\n",
       "      <td>1</td>\n",
       "      <td>True</td>\n",
       "      <td>Ismay, Mr. Joseph Bruce</td>\n",
       "      <td>male</td>\n",
       "      <td>49.0</td>\n",
       "      <td>0</td>\n",
       "      <td>0</td>\n",
       "      <td>112058</td>\n",
       "      <td>0.0</td>\n",
       "      <td>B52 B54 B56</td>\n",
       "      <td>S</td>\n",
       "      <td>C</td>\n",
       "      <td>desconegut</td>\n",
       "      <td>Liverpool</td>\n",
       "    </tr>\n",
       "    <tr>\n",
       "      <th>234</th>\n",
       "      <td>1</td>\n",
       "      <td>False</td>\n",
       "      <td>Reuchlin, Jonkheer. John George</td>\n",
       "      <td>male</td>\n",
       "      <td>38.0</td>\n",
       "      <td>0</td>\n",
       "      <td>0</td>\n",
       "      <td>19972</td>\n",
       "      <td>0.0</td>\n",
       "      <td>desconegut</td>\n",
       "      <td>S</td>\n",
       "      <td>desconegut</td>\n",
       "      <td>desconegut</td>\n",
       "      <td>Rotterdam, Netherlands</td>\n",
       "    </tr>\n",
       "    <tr>\n",
       "      <th>896</th>\n",
       "      <td>3</td>\n",
       "      <td>False</td>\n",
       "      <td>Johnson, Mr. Alfred</td>\n",
       "      <td>male</td>\n",
       "      <td>49.0</td>\n",
       "      <td>0</td>\n",
       "      <td>0</td>\n",
       "      <td>LINE</td>\n",
       "      <td>0.0</td>\n",
       "      <td>desconegut</td>\n",
       "      <td>S</td>\n",
       "      <td>desconegut</td>\n",
       "      <td>desconegut</td>\n",
       "      <td>desconegut</td>\n",
       "    </tr>\n",
       "    <tr>\n",
       "      <th>898</th>\n",
       "      <td>3</td>\n",
       "      <td>False</td>\n",
       "      <td>Johnson, Mr. William Cahoone Jr</td>\n",
       "      <td>male</td>\n",
       "      <td>19.0</td>\n",
       "      <td>0</td>\n",
       "      <td>0</td>\n",
       "      <td>LINE</td>\n",
       "      <td>0.0</td>\n",
       "      <td>desconegut</td>\n",
       "      <td>S</td>\n",
       "      <td>desconegut</td>\n",
       "      <td>desconegut</td>\n",
       "      <td>desconegut</td>\n",
       "    </tr>\n",
       "    <tr>\n",
       "      <th>963</th>\n",
       "      <td>3</td>\n",
       "      <td>False</td>\n",
       "      <td>Leonard, Mr. Lionel</td>\n",
       "      <td>male</td>\n",
       "      <td>36.0</td>\n",
       "      <td>0</td>\n",
       "      <td>0</td>\n",
       "      <td>LINE</td>\n",
       "      <td>0.0</td>\n",
       "      <td>desconegut</td>\n",
       "      <td>S</td>\n",
       "      <td>desconegut</td>\n",
       "      <td>desconegut</td>\n",
       "      <td>desconegut</td>\n",
       "    </tr>\n",
       "    <tr>\n",
       "      <th>1254</th>\n",
       "      <td>3</td>\n",
       "      <td>True</td>\n",
       "      <td>Tornquist, Mr. William Henry</td>\n",
       "      <td>male</td>\n",
       "      <td>25.0</td>\n",
       "      <td>0</td>\n",
       "      <td>0</td>\n",
       "      <td>LINE</td>\n",
       "      <td>0.0</td>\n",
       "      <td>desconegut</td>\n",
       "      <td>S</td>\n",
       "      <td>15</td>\n",
       "      <td>desconegut</td>\n",
       "      <td>desconegut</td>\n",
       "    </tr>\n",
       "  </tbody>\n",
       "</table>\n",
       "</div>"
      ],
      "text/plain": [
       "      pclass  survived                             name   sex   age  sibsp  \\\n",
       "7          1     False           Andrews, Mr. Thomas Jr  male  39.0      0   \n",
       "150        1     False            Harrison, Mr. William  male  40.0      0   \n",
       "170        1      True          Ismay, Mr. Joseph Bruce  male  49.0      0   \n",
       "234        1     False  Reuchlin, Jonkheer. John George  male  38.0      0   \n",
       "896        3     False              Johnson, Mr. Alfred  male  49.0      0   \n",
       "898        3     False  Johnson, Mr. William Cahoone Jr  male  19.0      0   \n",
       "963        3     False              Leonard, Mr. Lionel  male  36.0      0   \n",
       "1254       3      True     Tornquist, Mr. William Henry  male  25.0      0   \n",
       "\n",
       "      parch  ticket  fare        cabin embarked        boat        body  \\\n",
       "7         0  112050   0.0          A36        S  desconegut  desconegut   \n",
       "150       0  112059   0.0          B94        S  desconegut       110.0   \n",
       "170       0  112058   0.0  B52 B54 B56        S           C  desconegut   \n",
       "234       0   19972   0.0   desconegut        S  desconegut  desconegut   \n",
       "896       0    LINE   0.0   desconegut        S  desconegut  desconegut   \n",
       "898       0    LINE   0.0   desconegut        S  desconegut  desconegut   \n",
       "963       0    LINE   0.0   desconegut        S  desconegut  desconegut   \n",
       "1254      0    LINE   0.0   desconegut        S          15  desconegut   \n",
       "\n",
       "                   home_dest  \n",
       "7                Belfast, NI  \n",
       "150               desconegut  \n",
       "170                Liverpool  \n",
       "234   Rotterdam, Netherlands  \n",
       "896               desconegut  \n",
       "898               desconegut  \n",
       "963               desconegut  \n",
       "1254              desconegut  "
      ]
     },
     "execution_count": 28,
     "metadata": {},
     "output_type": "execute_result"
    }
   ],
   "source": [
    "df.loc[(df['fare'] == 0),:]"
   ]
  },
  {
   "cell_type": "code",
   "execution_count": 29,
   "id": "673cdd0c",
   "metadata": {},
   "outputs": [],
   "source": [
    "cond1 = (df['fare'] == 0) & (df['pclass'] == 1) \n",
    "cond3 = (df['fare'] == 0) & (df['pclass'] == 3) \n"
   ]
  },
  {
   "cell_type": "code",
   "execution_count": 30,
   "id": "2958bd9e",
   "metadata": {},
   "outputs": [],
   "source": [
    "df.loc[cond1,'fare'] = 87.50\n",
    "df.loc[cond3,'fare'] = 13.30"
   ]
  },
  {
   "cell_type": "code",
   "execution_count": 31,
   "id": "4986e7e5",
   "metadata": {},
   "outputs": [
    {
     "data": {
      "text/html": [
       "<div>\n",
       "<style scoped>\n",
       "    .dataframe tbody tr th:only-of-type {\n",
       "        vertical-align: middle;\n",
       "    }\n",
       "\n",
       "    .dataframe tbody tr th {\n",
       "        vertical-align: top;\n",
       "    }\n",
       "\n",
       "    .dataframe thead tr th {\n",
       "        text-align: left;\n",
       "    }\n",
       "\n",
       "    .dataframe thead tr:last-of-type th {\n",
       "        text-align: right;\n",
       "    }\n",
       "</style>\n",
       "<table border=\"1\" class=\"dataframe\">\n",
       "  <thead>\n",
       "    <tr>\n",
       "      <th></th>\n",
       "      <th colspan=\"8\" halign=\"left\">fare</th>\n",
       "    </tr>\n",
       "    <tr>\n",
       "      <th></th>\n",
       "      <th>count</th>\n",
       "      <th>mean</th>\n",
       "      <th>std</th>\n",
       "      <th>min</th>\n",
       "      <th>25%</th>\n",
       "      <th>50%</th>\n",
       "      <th>75%</th>\n",
       "      <th>max</th>\n",
       "    </tr>\n",
       "    <tr>\n",
       "      <th>pclass</th>\n",
       "      <th></th>\n",
       "      <th></th>\n",
       "      <th></th>\n",
       "      <th></th>\n",
       "      <th></th>\n",
       "      <th></th>\n",
       "      <th></th>\n",
       "      <th></th>\n",
       "    </tr>\n",
       "  </thead>\n",
       "  <tbody>\n",
       "    <tr>\n",
       "      <th>1</th>\n",
       "      <td>278.0</td>\n",
       "      <td>87.531730</td>\n",
       "      <td>65.395002</td>\n",
       "      <td>5.0000</td>\n",
       "      <td>36.250</td>\n",
       "      <td>70.15</td>\n",
       "      <td>108.9</td>\n",
       "      <td>263.0000</td>\n",
       "    </tr>\n",
       "    <tr>\n",
       "      <th>2</th>\n",
       "      <td>249.0</td>\n",
       "      <td>19.536814</td>\n",
       "      <td>8.602456</td>\n",
       "      <td>9.6875</td>\n",
       "      <td>13.000</td>\n",
       "      <td>14.50</td>\n",
       "      <td>26.0</td>\n",
       "      <td>41.5792</td>\n",
       "    </tr>\n",
       "    <tr>\n",
       "      <th>3</th>\n",
       "      <td>496.0</td>\n",
       "      <td>12.521404</td>\n",
       "      <td>8.495331</td>\n",
       "      <td>3.1708</td>\n",
       "      <td>7.775</td>\n",
       "      <td>8.05</td>\n",
       "      <td>14.5</td>\n",
       "      <td>46.9000</td>\n",
       "    </tr>\n",
       "  </tbody>\n",
       "</table>\n",
       "</div>"
      ],
      "text/plain": [
       "         fare                                                              \n",
       "        count       mean        std     min     25%    50%    75%       max\n",
       "pclass                                                                     \n",
       "1       278.0  87.531730  65.395002  5.0000  36.250  70.15  108.9  263.0000\n",
       "2       249.0  19.536814   8.602456  9.6875  13.000  14.50   26.0   41.5792\n",
       "3       496.0  12.521404   8.495331  3.1708   7.775   8.05   14.5   46.9000"
      ]
     },
     "execution_count": 31,
     "metadata": {},
     "output_type": "execute_result"
    }
   ],
   "source": [
    "df.groupby('pclass').describe()[['fare']]"
   ]
  },
  {
   "cell_type": "markdown",
   "id": "c1e6482a",
   "metadata": {},
   "source": [
    "# Anàlisi de dades\n",
    "## Visualització de dades\n",
    "Veiem primer les distribucions de les columnes principals per a tenir una idea més acurada del joc de dades."
   ]
  },
  {
   "cell_type": "code",
   "execution_count": 32,
   "id": "43349bf1",
   "metadata": {},
   "outputs": [
    {
     "name": "stdout",
     "output_type": "stream",
     "text": [
      "Passatgers per tipus de classe:\n"
     ]
    },
    {
     "data": {
      "text/plain": [
       "<AxesSubplot:ylabel='pclass'>"
      ]
     },
     "execution_count": 32,
     "metadata": {},
     "output_type": "execute_result"
    },
    {
     "data": {
      "image/png": "[encoded data removed]",
      "text/plain": [
       "<Figure size 432x288 with 1 Axes>"
      ]
     },
     "metadata": {},
     "output_type": "display_data"
    }
   ],
   "source": [
    "# columna classe\n",
    "print('Passatgers per tipus de classe:')\n",
    "df['pclass'].value_counts().plot(kind='pie',autopct='%.2f')"
   ]
  },
  {
   "cell_type": "code",
   "execution_count": 33,
   "id": "1aef8bb3",
   "metadata": {},
   "outputs": [
    {
     "name": "stdout",
     "output_type": "stream",
     "text": [
      "Quina és la distribució per edats i sexe?\n"
     ]
    },
    {
     "data": {
      "text/plain": [
       "<seaborn.axisgrid.FacetGrid at 0x157c9d8d850>"
      ]
     },
     "execution_count": 33,
     "metadata": {},
     "output_type": "execute_result"
    },
    {
     "data": {
      "image/png": "[encoded data removed]",
      "text/plain": [
       "<Figure size 1150.5x216 with 1 Axes>"
      ]
     },
     "metadata": {
      "needs_background": "light"
     },
     "output_type": "display_data"
    }
   ],
   "source": [
    "# columna age i sex\n",
    "print(\"Quina és la distribució per edats i sexe?\")\n",
    "\n",
    "as_fig = sns.FacetGrid(df,hue='sex',aspect=5)\n",
    "\n",
    "as_fig.map(sns.kdeplot,'age',shade=True)\n",
    "\n",
    "oldest = df['age'].max()\n",
    "\n",
    "as_fig.set(xlim=(0,oldest))\n",
    "\n",
    "as_fig.add_legend()"
   ]
  },
  {
   "cell_type": "code",
   "execution_count": 34,
   "id": "9a000209",
   "metadata": {},
   "outputs": [
    {
     "name": "stdout",
     "output_type": "stream",
     "text": [
      "Recompte de persones en funció del sexe i de la classe: \n"
     ]
    },
    {
     "data": {
      "text/plain": [
       "<seaborn.axisgrid.FacetGrid at 0x157c9f3d2e0>"
      ]
     },
     "execution_count": 34,
     "metadata": {},
     "output_type": "execute_result"
    },
    {
     "data": {
      "image/png": "[encoded data removed]",
      "text/plain": [
       "<Figure size 430.5x360 with 1 Axes>"
      ]
     },
     "metadata": {
      "needs_background": "light"
     },
     "output_type": "display_data"
    }
   ],
   "source": [
    "print(\"Recompte de persones en funció del sexe i de la classe: \")\n",
    "sns.catplot(x='pclass',\n",
    "            data=df, \n",
    "            hue='sex', \n",
    "            kind='count')"
   ]
  },
  {
   "cell_type": "code",
   "execution_count": 35,
   "id": "95aeb6eb",
   "metadata": {},
   "outputs": [
    {
     "name": "stdout",
     "output_type": "stream",
     "text": [
      "Des d'on van embarcar i quin tipus de classe de passatgers s'hi van pujar?\n"
     ]
    },
    {
     "data": {
      "text/plain": [
       "<seaborn.axisgrid.FacetGrid at 0x157ca018cd0>"
      ]
     },
     "execution_count": 35,
     "metadata": {},
     "output_type": "execute_result"
    },
    {
     "data": {
      "image/png": "[encoded data removed]",
      "text/plain": [
       "<Figure size 402.375x360 with 1 Axes>"
      ]
     },
     "metadata": {
      "needs_background": "light"
     },
     "output_type": "display_data"
    }
   ],
   "source": [
    "print(\"Des d'on van embarcar i quin tipus de classe de passatgers s'hi van pujar?\")\n",
    "sns.catplot(x='embarked',data=df,\n",
    "               hue='pclass',\n",
    "               kind='count')"
   ]
  },
  {
   "cell_type": "markdown",
   "id": "2b3bf4de",
   "metadata": {},
   "source": [
    "## Anàlisi exploratori dels supervivents"
   ]
  },
  {
   "cell_type": "code",
   "execution_count": 68,
   "id": "cf97cb90",
   "metadata": {},
   "outputs": [],
   "source": [
    "# creem una funció que ens compari dues columnes i ens mostri un gràfic de barres\n",
    "\n",
    "def graficar_dues_columnes(df, \n",
    "                            col1, \n",
    "                            col2, \n",
    "                            legloc='upper right',\n",
    "                            plt_style = 'gggraficar',\n",
    "                            color_palette=\"dark\", \n",
    "                            sorter=None, \n",
    "                            stacked=False,\n",
    "                            kind = 'bar', \n",
    "                            percentage = True,\n",
    "                            custom_title=None, \n",
    "                            minimal=True, \n",
    "                            figsize=(14,6), width=0.6):   \n",
    "    \n",
    "    # creació de la funció del gràfic\n",
    "    def graficar(table, \n",
    "            legloc='upper right',\n",
    "            plt_style = 'seaborn-ticks',\n",
    "            color_palette=\"dark\",\n",
    "            sorter=None, \n",
    "            stacked=False,\n",
    "            kind = 'bar', \n",
    "            percentage = True,\n",
    "            custom_title=None, \n",
    "            minimal=True, \n",
    "            figsize=(19,10), \n",
    "            width=0.7 ):     \n",
    "        agrupat = table\n",
    "\n",
    "        if percentage == True:\n",
    "            agrupat = np.round(agrupat.divide(agrupat['Total'],axis=0)*100,0)\n",
    "        try:   \n",
    "            del agrupat['Total']\n",
    "        except:\n",
    "            pass\n",
    "\n",
    "        if sorter:\n",
    "            agrupat = agrupat[sorter]\n",
    "\n",
    "        plt.style.use(plt_style)\n",
    "        sns.set_palette(sns.color_palette(color_palette))\n",
    "        ax = agrupat.plot(kind=kind,stacked=stacked, figsize=figsize, width=width)\n",
    "        _ = plt.setp(ax.get_xticklabels(), rotation=0)\n",
    "        plt.legend(loc=legloc)\n",
    "\n",
    "        if percentage == True:\n",
    "          for p in ax.patches:\n",
    "                ax.annotate('{}%'.format(int(np.round(p.get_height(),decimals=2))),\n",
    "                                             (p.get_x()+p.get_width()/2.,\n",
    "                                              p.get_height()), ha='center', va='center',\n",
    "                                            xytext=(0, 10), textcoords='offset points')\n",
    "        else:\n",
    "          for p in ax.patches:\n",
    "                ax.annotate(np.round(p.get_height(),decimals=2),\n",
    "                                             (p.get_x()+p.get_width()/2.,\n",
    "                                              p.get_height()), ha='center', va='center',\n",
    "                                            xytext=(0, 10), textcoords='offset points')\n",
    "        if minimal == True:\n",
    "            ax.get_yaxis().set_ticks([])\n",
    "            plt.xlabel('')\n",
    "            sns.despine(top=True, right=True, left=True, bottom=False);\n",
    "        else:\n",
    "            pass     \n",
    "        plt.title(custom_title)\n",
    "    \n",
    "    \n",
    "    \n",
    "    # creació del gràfic\n",
    "    agrupat = df.groupby([col2,col1]).size().unstack(col2)\n",
    "    \n",
    "    agrupat['Total'] = agrupat.sum(axis=1)\n",
    "   \n",
    "    graficar(agrupat, \n",
    "            legloc=legloc,\n",
    "            plt_style = plt_style,\n",
    "            color_palette=color_palette,\n",
    "            sorter=sorter, \n",
    "            stacked=stacked,\n",
    "            kind = kind, \n",
    "            percentage = percentage,\n",
    "            custom_title=custom_title, \n",
    "            minimal=minimal, \n",
    "            figsize=figsize, \n",
    "            width=width)  "
   ]
  },
  {
   "cell_type": "code",
   "execution_count": 36,
   "id": "c7d372af",
   "metadata": {},
   "outputs": [
    {
     "name": "stdout",
     "output_type": "stream",
     "text": [
      "Quin tant per cent va sobreviure?\n"
     ]
    },
    {
     "data": {
      "text/plain": [
       "<AxesSubplot:ylabel='survived'>"
      ]
     },
     "execution_count": 36,
     "metadata": {},
     "output_type": "execute_result"
    },
    {
     "data": {
      "image/png": "[encoded data removed]",
      "text/plain": [
       "<Figure size 432x288 with 1 Axes>"
      ]
     },
     "metadata": {},
     "output_type": "display_data"
    }
   ],
   "source": [
    "# columna survived\n",
    "print('Quin tant per cent va sobreviure?')\n",
    "df['survived'].value_counts().plot(kind='pie', autopct='%.2f')"
   ]
  },
  {
   "cell_type": "code",
   "execution_count": 86,
   "id": "6c2dc6a9",
   "metadata": {},
   "outputs": [
    {
     "data": {
      "image/png": "[encoded data removed]",
      "text/plain": [
       "<Figure size 1008x432 with 1 Axes>"
      ]
     },
     "metadata": {},
     "output_type": "display_data"
    }
   ],
   "source": [
    "# sex i survived\n",
    "graficar_dues_columnes(df,\n",
    "                       'sex', \n",
    "                       'survived', \n",
    "                       color_palette=('bisque','darkorange'),\n",
    "                       plt_style = 'seaborn-ticks', \n",
    "                       custom_title='Tant per cent de supervivents en funció del sexe')"
   ]
  },
  {
   "cell_type": "code",
   "execution_count": 74,
   "id": "df4c4cfb",
   "metadata": {},
   "outputs": [
    {
     "data": {
      "image/png": "[encoded data removed]",
      "text/plain": [
       "<Figure size 1008x432 with 1 Axes>"
      ]
     },
     "metadata": {},
     "output_type": "display_data"
    }
   ],
   "source": [
    "# embarked i survived\n",
    "graficar_dues_columnes(df,\n",
    "                       'embarked', \n",
    "                       'survived', \n",
    "                       color_palette=('lightcyan','dodgerblue'),\n",
    "                       plt_style = 'seaborn-ticks', \n",
    "                       custom_title='Tant per cent de supervivents en funció del port on van embarcar')"
   ]
  },
  {
   "cell_type": "code",
   "execution_count": 88,
   "id": "09a07810",
   "metadata": {},
   "outputs": [
    {
     "data": {
      "image/png": "[encoded data removed]",
      "text/plain": [
       "<Figure size 1008x432 with 1 Axes>"
      ]
     },
     "metadata": {},
     "output_type": "display_data"
    }
   ],
   "source": [
    "# pclass i survived\n",
    "graficar_dues_columnes(df,\n",
    "                       'pclass', \n",
    "                       'survived', \n",
    "                       color_palette=('mistyrose','salmon'),\n",
    "                       plt_style = 'seaborn-ticks', \n",
    "                       custom_title='Tant per cent de supervivents en funció de la classe')"
   ]
  },
  {
   "cell_type": "code",
   "execution_count": 91,
   "id": "3bc750d9",
   "metadata": {},
   "outputs": [
    {
     "name": "stdout",
     "output_type": "stream",
     "text": [
      "Supervivents per edat\n"
     ]
    },
    {
     "data": {
      "text/plain": [
       "<seaborn.axisgrid.FacetGrid at 0x157cb974700>"
      ]
     },
     "execution_count": 91,
     "metadata": {},
     "output_type": "execute_result"
    },
    {
     "data": {
      "image/png": "[encoded data removed]",
      "text/plain": [
       "<Figure size 1140.62x216 with 1 Axes>"
      ]
     },
     "metadata": {},
     "output_type": "display_data"
    }
   ],
   "source": [
    "# columna age i sex\n",
    "print(\"Supervivents per edat\")\n",
    "\n",
    "as_fig = sns.FacetGrid(df,hue='survived',aspect=5)\n",
    "\n",
    "as_fig.map(sns.kdeplot,'age',shade=True)\n",
    "\n",
    "oldest = df['age'].max()\n",
    "\n",
    "as_fig.set(xlim=(0,oldest))\n",
    "\n",
    "as_fig.add_legend()"
   ]
  },
  {
   "cell_type": "markdown",
   "id": "4c36813e",
   "metadata": {},
   "source": [
    "## Anàlisi de correlacions\n",
    "### Normalització del joc de dades"
   ]
  },
  {
   "cell_type": "markdown",
   "id": "247106be",
   "metadata": {},
   "source": [
    "#### - Variable Age"
   ]
  },
  {
   "cell_type": "markdown",
   "id": "67fdb74c",
   "metadata": {},
   "source": [
    "#### Test de Kolmogorov-Smirnov per la normalitat"
   ]
  },
  {
   "cell_type": "code",
   "execution_count": 39,
   "id": "165d6b2f",
   "metadata": {},
   "outputs": [
    {
     "data": {
      "text/plain": [
       "KstestResult(statistic=0.9654145203456915, pvalue=0.0)"
      ]
     },
     "execution_count": 39,
     "metadata": {},
     "output_type": "execute_result"
    }
   ],
   "source": [
    "from scipy.stats import kstest\n",
    "\n",
    "#perform Kolmogorov-Smirnov test\n",
    "kstest(df['age'], 'norm')"
   ]
  },
  {
   "cell_type": "markdown",
   "id": "e1a820f3",
   "metadata": {},
   "source": [
    "#### Test de e Shapiro-Wilk per la normalitat"
   ]
  },
  {
   "cell_type": "code",
   "execution_count": 55,
   "id": "5cd6eb9d",
   "metadata": {},
   "outputs": [
    {
     "data": {
      "text/plain": [
       "ShapiroResult(statistic=0.9798189997673035, pvalue=1.0307183578861512e-10)"
      ]
     },
     "execution_count": 55,
     "metadata": {},
     "output_type": "execute_result"
    }
   ],
   "source": [
    "\n",
    "shapiro_test = stats.shapiro(df['age'])\n",
    "shapiro_test"
   ]
  },
  {
   "cell_type": "markdown",
   "id": "94efaf15",
   "metadata": {},
   "source": [
    "#### Veiem que pvalue es inferior a 0.05 tan en el test de KS con en el test de S-W. Aleshores rebutjem la hipòtesi nul·la i es conclou que l'edad no té distribució normal."
   ]
  },
  {
   "cell_type": "markdown",
   "id": "81038145",
   "metadata": {},
   "source": [
    "#### - Variable fare"
   ]
  },
  {
   "cell_type": "code",
   "execution_count": 41,
   "id": "11a0e1d3",
   "metadata": {},
   "outputs": [
    {
     "data": {
      "text/plain": [
       "KstestResult(statistic=0.9992399011538781, pvalue=0.0)"
      ]
     },
     "execution_count": 41,
     "metadata": {},
     "output_type": "execute_result"
    }
   ],
   "source": [
    "\n",
    "#perform Kolmogorov-Smirnov test\n",
    "kstest(df['fare'], 'norm')"
   ]
  },
  {
   "cell_type": "code",
   "execution_count": 42,
   "id": "16735356",
   "metadata": {},
   "outputs": [
    {
     "data": {
      "text/plain": [
       "ShapiroResult(statistic=0.5949857234954834, pvalue=1.4433374182545616e-43)"
      ]
     },
     "execution_count": 42,
     "metadata": {},
     "output_type": "execute_result"
    }
   ],
   "source": [
    "from scipy import stats\n",
    "stats.shapiro(df['fare'])"
   ]
  },
  {
   "cell_type": "markdown",
   "id": "4d247bd0",
   "metadata": {},
   "source": [
    "#### Veiem que pvalue es inferior a 0.05 tan en el test de KS con en el test de S-W. Aleshores rebutjem la hipòtesi nul·la i es conclou que el preu no té distribució normal."
   ]
  },
  {
   "cell_type": "code",
   "execution_count": 45,
   "id": "6ac53048",
   "metadata": {},
   "outputs": [],
   "source": [
    "# normalitzadió per desviació típica\n",
    "norm_df=(df-df.mean(numeric_only=True))/df.std(numeric_only=True)"
   ]
  },
  {
   "cell_type": "markdown",
   "id": "3eb87950",
   "metadata": {},
   "source": [
    " ### Homogeneïtat de la variància"
   ]
  },
  {
   "cell_type": "markdown",
   "id": "900468b2",
   "metadata": {},
   "source": [
    "#### Comprobarem la homogeneïtat de la variància de les variables age i fare pels diferents grups de les variables pclass, sex i survived:"
   ]
  },
  {
   "cell_type": "code",
   "execution_count": 46,
   "id": "dccb8074",
   "metadata": {},
   "outputs": [],
   "source": [
    "#Estudiarem les variables age i fare en els grups: pclass, sex i surived\n",
    "#Com que no son variables normals hem d'aplicar el test no parametric de Fligner-Killeen:\n",
    "\n",
    "age_class1=df['age'][df['pclass']==1]\n",
    "age_class2=df['age'][df['pclass']==2]\n",
    "age_class3=df['age'][df['pclass']==3]\n",
    "age_sexF=df['age'][df['sex']=='female']\n",
    "age_sexM=df['age'][df['sex']=='male']\n",
    "age_survived0=df['age'][df['survived']==0]\n",
    "age_survived1=df['age'][df['survived']==1]\n",
    "fligner_age_class = stats.fligner(age_class1, age_class2,age_class3, center='median')\n",
    "fligner_age_sex = stats.fligner( age_sexF,age_sexM, center='median')\n",
    "fligner_age_survived = stats.fligner(age_survived0, age_survived1, center='median')"
   ]
  },
  {
   "cell_type": "code",
   "execution_count": 47,
   "id": "c78f9515",
   "metadata": {},
   "outputs": [
    {
     "name": "stdout",
     "output_type": "stream",
     "text": [
      "El valor de p-value del test de age en la variable pclass es: 2.1492895307682507e-06\n"
     ]
    }
   ],
   "source": [
    "print (\"El valor de p-value del test de age en la variable pclass es:\", fligner_age_class.pvalue) "
   ]
  },
  {
   "cell_type": "code",
   "execution_count": 48,
   "id": "0a57d7fb",
   "metadata": {},
   "outputs": [
    {
     "name": "stdout",
     "output_type": "stream",
     "text": [
      "El valor de p-value del test de age en la variable sex es: 0.5906768089205406\n"
     ]
    }
   ],
   "source": [
    "print (\"El valor de p-value del test de age en la variable sex es:\", fligner_age_sex.pvalue) "
   ]
  },
  {
   "cell_type": "code",
   "execution_count": 49,
   "id": "dcfb3d47",
   "metadata": {},
   "outputs": [
    {
     "name": "stdout",
     "output_type": "stream",
     "text": [
      "El valor de p-value del test de age en la variable survived es: 0.1093881286433002\n"
     ]
    }
   ],
   "source": [
    "print (\"El valor de p-value del test de age en la variable survived es:\", fligner_age_survived.pvalue) "
   ]
  },
  {
   "cell_type": "markdown",
   "id": "2e56e2a9",
   "metadata": {},
   "source": [
    "### Observem que menys en el grup pclass la variable age no rebujta la hipotesis nul-la i per tant te variàncies estadísticament similars. "
   ]
  },
  {
   "cell_type": "code",
   "execution_count": 50,
   "id": "26133ee4",
   "metadata": {},
   "outputs": [],
   "source": [
    "#Estudiarem les variables fare i fare en els grups: pclass, sex i surived\n",
    "#Com que no son variables normals hem d'aplicar el test no parametric de Fligner-Killeen:\n",
    "from scipy import stats\n",
    "fare_class1=df['fare'][df['pclass']==1]\n",
    "fare_class2=df['fare'][df['pclass']==2]\n",
    "fare_class3=df['fare'][df['pclass']==3]\n",
    "fare_sexF=df['fare'][df['sex']=='female']\n",
    "fare_sexM=df['age'][df['sex']=='male']\n",
    "fare_survived0=df['fare'][df['survived']==0]\n",
    "fare_survived1=df['fare'][df['survived']==1]\n",
    "fligner_fare_class = stats.fligner(fare_class1, fare_class2,fare_class3, center='median')\n",
    "fligner_fare_sex = stats.fligner( fare_sexF,fare_sexM, center='median')\n",
    "fligner_fare_survived = stats.fligner(fare_survived0, fare_survived1, center='median')"
   ]
  },
  {
   "cell_type": "code",
   "execution_count": 51,
   "id": "e415f124",
   "metadata": {},
   "outputs": [
    {
     "name": "stdout",
     "output_type": "stream",
     "text": [
      "El valor de p-value del test de fare en la variable pclass es: 1.1562174548043137e-110\n"
     ]
    }
   ],
   "source": [
    "print (\"El valor de p-value del test de fare en la variable pclass es:\", fligner_fare_class.pvalue) "
   ]
  },
  {
   "cell_type": "code",
   "execution_count": 52,
   "id": "1da3b322",
   "metadata": {},
   "outputs": [
    {
     "name": "stdout",
     "output_type": "stream",
     "text": [
      "El valor de p-value del test de fare en la variable sex es: 2.117707590275233e-24\n"
     ]
    }
   ],
   "source": [
    "print (\"El valor de p-value del test de fare en la variable sex es:\", fligner_fare_sex.pvalue) "
   ]
  },
  {
   "cell_type": "code",
   "execution_count": 53,
   "id": "0846b78d",
   "metadata": {},
   "outputs": [
    {
     "name": "stdout",
     "output_type": "stream",
     "text": [
      "El valor de p-value del test de fare en la variable survived es: 2.3345626395466748e-23\n"
     ]
    }
   ],
   "source": [
    "print (\"El valor de p-value del test de fare en la variable survived es:\", fligner_fare_survived.pvalue) "
   ]
  },
  {
   "cell_type": "markdown",
   "id": "5355c92e",
   "metadata": {},
   "source": [
    "##### D'altre banda, per la variable fare en els grups estudiats el p-value es inferior a 0.05 i per tant es rebutja la hipòtesi nul·la d’homoscedasticitat i es conclou que la variable fare presenta variàncies estadísticament diferents per als diferents grups de pclass, sex i survived."
   ]
  },
  {
   "cell_type": "markdown",
   "id": "37626ab8",
   "metadata": {},
   "source": [
    "### Correlació entre variables"
   ]
  },
  {
   "cell_type": "code",
   "execution_count": 54,
   "id": "11b9d009",
   "metadata": {},
   "outputs": [
    {
     "data": {
      "image/png": "[encoded data removed]",
      "text/plain": [
       "<Figure size 504x504 with 1 Axes>"
      ]
     },
     "metadata": {
      "needs_background": "light"
     },
     "output_type": "display_data"
    }
   ],
   "source": [
    "# apliquem la fòrmula de correlació al joc de dades normalitzat\n",
    "corr = norm_df.corr()\n",
    "\n",
    "# creem el mapa de calor\n",
    "fig, ax = plt.subplots(1, 1, figsize=(7, 7))\n",
    "\n",
    "mask = np.zeros_like(corr, dtype=bool)\n",
    "mask[np.triu_indices_from(mask)] = True\n",
    "\n",
    "cmap = sns.diverging_palette(230, 20, as_cmap=True)\n",
    "\n",
    "sns.heatmap(corr, \n",
    "            square=True, \n",
    "            mask=mask,\n",
    "            linewidth=2.5, \n",
    "            vmax=0.4, vmin=-0.4, \n",
    "            cmap=cmap, \n",
    "            cbar=False, \n",
    "            ax=ax,\n",
    "            annot=True)\n",
    "\n",
    "ax.set_yticklabels(ax.get_xticklabels(), fontfamily='serif', rotation = 0, fontsize=11)\n",
    "ax.set_xticklabels(ax.get_xticklabels(), fontfamily='serif', rotation=90, fontsize=11)\n",
    "\n",
    "ax.spines['top'].set_visible(True)\n",
    "\n",
    "plt.tight_layout()\n",
    "plt.title(\"Mapa de calor de les correlacions entre variables\")\n",
    "plt.show()"
   ]
  },
  {
   "cell_type": "markdown",
   "id": "f8665b79",
   "metadata": {},
   "source": [
    "La correlació més alta la trobem entre classe i preu del billet, mentres que la més baixa la trobem entre el número de persones o germans i la variable survived."
   ]
  },
  {
   "cell_type": "markdown",
   "id": "02355a51",
   "metadata": {},
   "source": [
    "# Conclusions finals de l'estudi\n",
    "\n",
    "L'objectiu principal d'aquest estudi tal i com hem comentat a l'inici era conèixer si existeixen relacions entre les diferents característiques de cada passatger i el tant per cent de supervivència de cada grup.\n",
    "En base a l'anàlisi visual en el que hem vist el tant per cent de supervivents de les principals variables categòriques podem extraure que:\n",
    "* El percentatge de mortaldat dels homes va ser molt superior al de les dones, tenin aquests un 80% i les dones tan sols un 25%.\n",
    "* L'únic port d'entrada que va tenir més supervivents que morts va ser C. Aquesta relació tampoc implica causalitat.\n",
    "* Hem pogut veure com, en funció de la classe en la que viatjaven, quan més alta era més tant per cent de supervivents hi havien. \n",
    "\n",
    "En base a l'anàlisi de les variables numèriques hem vist que:\n",
    "* La única correlació forta existeix entre la classe i la supervivència. És quelcom que hem pogut veure a l'anàlisi visual i amb l'anàlisi de correlació s'ha reforçat.\n",
    "* La segona correlació més alta és entre el preu del tíquet i la supervivència.\n",
    "* Les altres variables numèriques tenen correlacions dèbils o gairebé inexistents amb la supervivència."
   ]
  }
 ],
 "metadata": {
  "kernelspec": {
   "display_name": "Python 3 (ipykernel)",
   "language": "python",
   "name": "python3"
  },
  "language_info": {
   "codemirror_mode": {
    "name": "ipython",
    "version": 3
   },
   "file_extension": ".py",
   "mimetype": "text/x-python",
   "name": "python",
   "nbconvert_exporter": "python",
   "pygments_lexer": "ipython3",
   "version": "3.9.7"
  }
 },
 "nbformat": 4,
 "nbformat_minor": 5
}
